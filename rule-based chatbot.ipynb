{
 "cells": [
  {
   "cell_type": "code",
   "execution_count": 6,
   "id": "965fd4e4",
   "metadata": {},
   "outputs": [],
   "source": [
    "import nltk\n",
    "from nltk.chat.util import Chat, reflections"
   ]
  },
  {
   "cell_type": "code",
   "execution_count": 7,
   "id": "f1081c0f",
   "metadata": {},
   "outputs": [
    {
     "name": "stdout",
     "output_type": "stream",
     "text": [
      "<class 'nltk.chat.util.Chat'>\n"
     ]
    }
   ],
   "source": [
    "print(Chat)"
   ]
  },
  {
   "cell_type": "code",
   "execution_count": 9,
   "id": "e90ab047",
   "metadata": {},
   "outputs": [
    {
     "data": {
      "text/plain": [
       "{'i am': 'you are',\n",
       " 'i was': 'you were',\n",
       " 'i': 'you',\n",
       " \"i'm\": 'you are',\n",
       " \"i'd\": 'you would',\n",
       " \"i've\": 'you have',\n",
       " \"i'll\": 'you will',\n",
       " 'my': 'your',\n",
       " 'you are': 'I am',\n",
       " 'you were': 'I was',\n",
       " \"you've\": 'I have',\n",
       " \"you'll\": 'I will',\n",
       " 'your': 'my',\n",
       " 'yours': 'mine',\n",
       " 'you': 'me',\n",
       " 'me': 'you'}"
      ]
     },
     "execution_count": 9,
     "metadata": {},
     "output_type": "execute_result"
    }
   ],
   "source": [
    "reflections"
   ]
  },
  {
   "cell_type": "code",
   "execution_count": 11,
   "id": "35019996",
   "metadata": {},
   "outputs": [],
   "source": [
    "set_pairs = [\n",
    "    [\n",
    "        r\"my name is (.*)\",\n",
    "        [\"Hello %1, How are you today?\",]\n",
    "    ],\n",
    "    \n",
    "    [\n",
    "        r\"hi|hey|hello\",\n",
    "        [\"Hello\", \"Hey there\",]\n",
    "    ],\n",
    "    [\n",
    "        r\"what is your name?\",\n",
    "        [\"You can call me a chatbot?\",]\n",
    "    ],\n",
    "    [\n",
    "        r\"how are you?\",\n",
    "        [\"I am fine, thank you! How can i help you?\",]\n",
    "    ],\n",
    "    [\n",
    "        r\"I am fine, thank you\",\n",
    "        [\"great to hear that, how can i help you?\",]\n",
    "    ],\n",
    "    [\n",
    "        r\"how can i help you?\",\n",
    "        [\"I am looking for online guides and courses to learn data science, can you suggest?\", \"i am looking for data science trainin course\",]\n",
    "    ],\n",
    "    [\n",
    "        r\"i'm (.*) doing good\",\n",
    "        [\"That's great to hear\",\"How can i help you? :)\",]\n",
    "    ],\n",
    "    [\n",
    "        r\"I am looking for online guides and courses to learn data science, can you suggest?\",\n",
    "        [\"Coding ninjas, geeksforgeeks, coursera, etc. are great options to learn data science. You can check their website\",]\n",
    "    ],\n",
    "    [\n",
    "        r\"thanks for the suggestion. do they have great authors and instructors?\",\n",
    "        [\"Yes, they have world class best authors, that is their strength;)\",]\n",
    "    ],\n",
    "    [\n",
    "        r\"(.*) thank you so much, that was helpful\",\n",
    "        [\"I am happy to help\", \"No problem, you're welcome\",]\n",
    "    ],\n",
    "    [\n",
    "        r\"quit\",\n",
    "        [\"Bye, take care. See you soon :)\", \"It was nice talking to you. See you soon :)\"]\n",
    "    ]\n",
    "    \n",
    "]"
   ]
  },
  {
   "cell_type": "code",
   "execution_count": 12,
   "id": "5560fbc5",
   "metadata": {},
   "outputs": [
    {
     "name": "stdout",
     "output_type": "stream",
     "text": [
      "Hi i am a rule based chatbot! What cn i help you with?\n"
     ]
    }
   ],
   "source": [
    "def chatbot():\n",
    "    print(\"Hi i am a rule based chatbot! What cn i help you with?\")\n",
    "    \n",
    "chatbot()"
   ]
  },
  {
   "cell_type": "code",
   "execution_count": 13,
   "id": "9b7361bc",
   "metadata": {},
   "outputs": [
    {
     "name": "stdout",
     "output_type": "stream",
     "text": [
      "<nltk.chat.util.Chat object at 0x0000018769C23070>\n"
     ]
    }
   ],
   "source": [
    "chat = Chat(set_pairs, reflections)\n",
    "print(chat)"
   ]
  },
  {
   "cell_type": "code",
   "execution_count": 14,
   "id": "9bf75499",
   "metadata": {},
   "outputs": [
    {
     "name": "stdout",
     "output_type": "stream",
     "text": [
      ">Hi\n",
      "Hey there\n",
      ">my name is priyanka\n",
      "Hello priyanka, How are you today?\n",
      ">i am looking for course\n",
      "None\n",
      ">I am looking for online guides and courses to learn data science, can you suggest?\n",
      "Coding ninjas, geeksforgeeks, coursera, etc. are great options to learn data science. You can check their website\n",
      ">quit\n",
      "Bye, take care. See you soon :)\n",
      "Hi i am a rule based chatbot! What cn i help you with?\n"
     ]
    }
   ],
   "source": [
    "chat.converse()\n",
    "if __name__==\"__main__\":\n",
    "    chatbot()"
   ]
  },
  {
   "cell_type": "code",
   "execution_count": null,
   "id": "16f909fa",
   "metadata": {},
   "outputs": [],
   "source": []
  }
 ],
 "metadata": {
  "kernelspec": {
   "display_name": "Python 3 (ipykernel)",
   "language": "python",
   "name": "python3"
  },
  "language_info": {
   "codemirror_mode": {
    "name": "ipython",
    "version": 3
   },
   "file_extension": ".py",
   "mimetype": "text/x-python",
   "name": "python",
   "nbconvert_exporter": "python",
   "pygments_lexer": "ipython3",
   "version": "3.9.7"
  }
 },
 "nbformat": 4,
 "nbformat_minor": 5
}
